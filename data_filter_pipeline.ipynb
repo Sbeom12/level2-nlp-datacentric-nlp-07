{
 "cells": [
  {
   "cell_type": "markdown",
   "metadata": {},
   "source": [
    "# KLUE-TC(YNAT) dataset (2800개)\n",
    "\n",
    "- Labeling Error - 1000개는 라벨을 임의로 바꿈\n",
    "→ 올바른 라벨로 재맵핑 필요\n",
    "- Random Noise - 1600개는 text에 노이즈를 추가. 임의의 char 중 20~80%를 랜덤으로 다른 아스키코드로 대체\n",
    "→ 높은 노이즈를 가지는 text는 제외, 낮은 샘플은 복구가 필요\n",
    "→ 사람이 개별 판단하지 말 것. 자동 detection이 가능하게 하여 수정하거나, 삭제하거나 진행\n",
    "- Normal Dataset - 200개"
   ]
  },
  {
   "cell_type": "code",
   "execution_count": null,
   "metadata": {},
   "outputs": [],
   "source": [
    "import pandas as pd\n",
    "import re\n",
    "from sklearn.feature_extraction.text import TfidfVectorizer\n",
    "from sklearn.decomposition import PCA\n",
    "from sklearn.cluster import KMeans\n",
    "import matplotlib.pyplot as plt\n",
    "import seaborn as sns\n",
    "import os\n",
    "from rank_bm25 import BM25Okapi\n",
    "from konlpy.tag import Okt"
   ]
  },
  {
   "cell_type": "code",
   "execution_count": null,
   "metadata": {},
   "outputs": [],
   "source": [
    "df = pd.read_csv(os.path.join(os.getcwd(), 'data/train.csv'))\n",
    "df.head()"
   ]
  },
  {
   "cell_type": "code",
   "execution_count": null,
   "metadata": {},
   "outputs": [],
   "source": [
    "# 화살표가 포함된 행을 필터링\n",
    "arrows = ['→', '←', '↑', '↓', '↔']\n",
    "mask = df['text'].str.contains('|'.join(arrows))  # 화살표 기호가 포함된 행 찾기\n",
    "df_with_arrows = df[mask]\n",
    "\n",
    "# 결과 출력\n",
    "df_with_arrows.head()"
   ]
  },
  {
   "cell_type": "code",
   "execution_count": null,
   "metadata": {},
   "outputs": [],
   "source": [
    "# 공백으로 대체\n",
    "df['text'] = df['text'].str.replace('…', ' ', regex=False)\n",
    "df['text'] = df['text'].str.replace('...', ' ', regex=False)\n",
    "df['text'] = df['text'].str.replace('·', ' ', regex=False)\n",
    "# 화살표 기호 의미 대체\n",
    "df['text'] = df['text'].str.replace('→', '에서', regex=False)\n",
    "df['text'] = df['text'].str.replace('↑', '상승', regex=False)\n",
    "df['text'] = df['text'].str.replace('↓', '하락', regex=False)\n",
    "df['text'] = df['text'].str.replace('↔', ' ', regex=False)"
   ]
  },
  {
   "cell_type": "code",
   "execution_count": null,
   "metadata": {},
   "outputs": [],
   "source": [
    "# 정규 표현식 정의: 소수점 뒤에 숫자가 있으며, 그 뒤에 '%'가 있는 패턴\n",
    "pattern = r'\\d+\\.\\d+%'\n",
    "\n",
    "# '.숫자%' 구성으로 이루어진 데이터 필터링\n",
    "df_filtered = df[df['text'].str.contains(pattern, regex=True)]\n",
    "\n",
    "# 결과 출력\n",
    "df_filtered.head()"
   ]
  },
  {
   "cell_type": "code",
   "execution_count": null,
   "metadata": {},
   "outputs": [],
   "source": [
    "# 특수 기호의 패턴 정의\n",
    "# 이 예시에서는 영숫자 이외의 모든 기호를 특수 기호로 간주합니다.\n",
    "# special_char_pattern = r'[^가-힣A-Z\\u4E00-\\u9FFF\\s0-9]'\n",
    "# .숫자% 형식을 제외하고, ㎜도 특수 기호에서 제외\n",
    "special_char_pattern = r'(?<!\\d)\\.(?!\\d)|(?<!\\d)%|[^가-힣A-Z\\u4E00-\\u9FFF\\s0-9\\.%㎜㎡]'\n",
    "\n",
    "# 각 text에 포함된 특수 기호의 개수를 세는 함수 정의\n",
    "def count_special_characters(text):\n",
    "    return len(re.findall(special_char_pattern, text))\n",
    "\n",
    "# 데이터프레임에 새로운 열 추가\n",
    "df['special_char_count'] = df['text'].apply(count_special_characters)\n",
    "df['special_char_ratio'] = df['special_char_count'] / df['text'].str.len()\n",
    "\n",
    "df_sorted = df.sort_values(by='special_char_ratio', ascending=False)\n",
    "\n",
    "# 결과 출력\n",
    "df_sorted.head()"
   ]
  },
  {
   "cell_type": "code",
   "execution_count": null,
   "metadata": {},
   "outputs": [],
   "source": [
    "# 출력 옵션을 설정하여 모든 행이 표시되도록 함\n",
    "pd.set_option('display.max_rows', None)\n",
    "\n",
    "# special_char_ratio가 0.2 이상인 데이터 필터링\n",
    "noise_df = df_sorted[df_sorted['special_char_ratio'] >= 0.042]\n",
    "print(len(noise_df))\n",
    "\n",
    "# 결과 출력\n",
    "noise_df.head()\n",
    "\n",
    "# 출력 옵션을 원래대로 복구\n",
    "pd.reset_option('display.max_rows')"
   ]
  },
  {
   "cell_type": "code",
   "execution_count": null,
   "metadata": {},
   "outputs": [],
   "source": [
    "# df_high_ratio의 인덱스를 이용하여 제외할 행을 찾음\n",
    "clean_df = df[~df.index.isin(noise_df.index)]\n",
    "\n",
    "print(len(clean_df))\n",
    "clean_df.head()"
   ]
  },
  {
   "cell_type": "markdown",
   "metadata": {},
   "source": [
    "# 클러스터링 기반 라벨링 확인"
   ]
  },
  {
   "cell_type": "code",
   "execution_count": null,
   "metadata": {},
   "outputs": [],
   "source": [
    "vectorizer = TfidfVectorizer()\n",
    "X = vectorizer.fit_transform(clean_df['text'])\n",
    "X"
   ]
  },
  {
   "cell_type": "code",
   "execution_count": null,
   "metadata": {},
   "outputs": [],
   "source": [
    "pca = PCA(n_components=2, random_state=42)\n",
    "X_pca = pca.fit_transform(X.toarray())"
   ]
  },
  {
   "cell_type": "code",
   "execution_count": null,
   "metadata": {},
   "outputs": [],
   "source": [
    "kmeans = KMeans(n_clusters=7, random_state=42)\n",
    "clean_df['cluster'] = kmeans.fit_predict(X_pca)"
   ]
  },
  {
   "cell_type": "code",
   "execution_count": null,
   "metadata": {},
   "outputs": [],
   "source": [
    "plt.figure(figsize=(12, 8))\n",
    "sns.scatterplot(x=X_pca[:, 0], y=X_pca[:, 1], hue=clean_df['target'], palette='Set1', s=100, alpha=0.6, edgecolor='w')\n",
    "plt.title('PCA로 축소된 뉴스 제목의 클러스터링 결과')\n",
    "plt.xlabel('PCA Component 1')\n",
    "plt.ylabel('PCA Component 2')\n",
    "plt.legend(title='Actual Label')\n",
    "plt.show()"
   ]
  },
  {
   "cell_type": "code",
   "execution_count": null,
   "metadata": {},
   "outputs": [],
   "source": [
    "clean_df['label_match'] = clean_df['target'] == clean_df['cluster']\n",
    "mismatched_labels = clean_df[clean_df['label_match'] == False]\n",
    "print(f\"잘못 라벨링된 데이터 수: {len(mismatched_labels)}\")\n"
   ]
  },
  {
   "cell_type": "code",
   "execution_count": null,
   "metadata": {},
   "outputs": [],
   "source": [
    "label_map = {\n",
    "    0:'생활문화',1:'스포츠',2:'정치',3:'사회',4:'IT과학',5:'경제',6:'세계'\n",
    "}\n",
    "mismatched_labels['target'] = mismatched_labels['target'].map(label_map)\n",
    "mismatched_labels['cluster'] = mismatched_labels['cluster'].map(label_map)\n",
    "mismatched_labels.head()"
   ]
  },
  {
   "cell_type": "markdown",
   "metadata": {},
   "source": [
    "직접 비교해본 결과, 정확도가 떨어진다. 1000개 데이터 이상치를 발견한 것은 우연인 듯하다.\n",
    "# BM25 활용"
   ]
  },
  {
   "cell_type": "code",
   "execution_count": null,
   "metadata": {},
   "outputs": [],
   "source": [
    "okt = Okt()"
   ]
  }
 ],
 "metadata": {
  "kernelspec": {
   "display_name": "data-centric-NLP",
   "language": "python",
   "name": "python3"
  },
  "language_info": {
   "codemirror_mode": {
    "name": "ipython",
    "version": 3
   },
   "file_extension": ".py",
   "mimetype": "text/x-python",
   "name": "python",
   "nbconvert_exporter": "python",
   "pygments_lexer": "ipython3",
   "version": "3.11.0"
  }
 },
 "nbformat": 4,
 "nbformat_minor": 2
}
