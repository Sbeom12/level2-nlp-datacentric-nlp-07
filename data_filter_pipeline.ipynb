{
 "cells": [
  {
   "cell_type": "markdown",
   "metadata": {},
   "source": [
    "# KLUE-TC(YNAT) dataset (2800개)\n",
    "\n",
    "- Labeling Error - 1000개는 라벨을 임의로 바꿈\n",
    "→ 올바른 라벨로 재맵핑 필요\n",
    "- Random Noise - 1600개는 text에 노이즈를 추가. 임의의 char 중 20~80%를 랜덤으로 다른 아스키코드로 대체\n",
    "→ 높은 노이즈를 가지는 text는 제외, 낮은 샘플은 복구가 필요\n",
    "→ 사람이 개별 판단하지 말 것. 자동 detection이 가능하게 하여 수정하거나, 삭제하거나 진행\n",
    "- Normal Dataset - 200개"
   ]
  },
  {
   "cell_type": "code",
   "execution_count": 4,
   "metadata": {},
   "outputs": [],
   "source": [
    "import pandas as pd\n",
    "import re\n",
    "from sklearn.feature_extraction.text import TfidfVectorizer\n",
    "from sklearn.decomposition import PCA\n",
    "from sklearn.cluster import KMeans\n",
    "import matplotlib.pyplot as plt\n",
    "import seaborn as sns"
   ]
  },
  {
   "cell_type": "code",
   "execution_count": 2,
   "metadata": {},
   "outputs": [
    {
     "data": {
      "text/html": [
       "<div>\n",
       "<style scoped>\n",
       "    .dataframe tbody tr th:only-of-type {\n",
       "        vertical-align: middle;\n",
       "    }\n",
       "\n",
       "    .dataframe tbody tr th {\n",
       "        vertical-align: top;\n",
       "    }\n",
       "\n",
       "    .dataframe thead th {\n",
       "        text-align: right;\n",
       "    }\n",
       "</style>\n",
       "<table border=\"1\" class=\"dataframe\">\n",
       "  <thead>\n",
       "    <tr style=\"text-align: right;\">\n",
       "      <th></th>\n",
       "      <th>ID</th>\n",
       "      <th>text</th>\n",
       "      <th>target</th>\n",
       "    </tr>\n",
       "  </thead>\n",
       "  <tbody>\n",
       "    <tr>\n",
       "      <th>0</th>\n",
       "      <td>ynat-v1_train_00000</td>\n",
       "      <td>정i :파1 미사z KT( 이용기간 2e 단] Q분종U2보</td>\n",
       "      <td>4</td>\n",
       "    </tr>\n",
       "    <tr>\n",
       "      <th>1</th>\n",
       "      <td>ynat-v1_train_00001</td>\n",
       "      <td>K찰.국DLwo 로L3한N% 회장 2 T0&amp;}송=</td>\n",
       "      <td>3</td>\n",
       "    </tr>\n",
       "    <tr>\n",
       "      <th>2</th>\n",
       "      <td>ynat-v1_train_00002</td>\n",
       "      <td>m 김정) 자주통일 새,?r열1나가야1보</td>\n",
       "      <td>2</td>\n",
       "    </tr>\n",
       "    <tr>\n",
       "      <th>3</th>\n",
       "      <td>ynat-v1_train_00003</td>\n",
       "      <td>갤노트8 주말 27만대 개통…시장은 불법 보조금 얼룩</td>\n",
       "      <td>5</td>\n",
       "    </tr>\n",
       "    <tr>\n",
       "      <th>4</th>\n",
       "      <td>ynat-v1_train_00004</td>\n",
       "      <td>pI美대선I앞두고 R2fr단 발] $비해 감시 강화</td>\n",
       "      <td>6</td>\n",
       "    </tr>\n",
       "  </tbody>\n",
       "</table>\n",
       "</div>"
      ],
      "text/plain": [
       "                    ID                              text  target\n",
       "0  ynat-v1_train_00000  정i :파1 미사z KT( 이용기간 2e 단] Q분종U2보       4\n",
       "1  ynat-v1_train_00001       K찰.국DLwo 로L3한N% 회장 2 T0&}송=       3\n",
       "2  ynat-v1_train_00002            m 김정) 자주통일 새,?r열1나가야1보       2\n",
       "3  ynat-v1_train_00003     갤노트8 주말 27만대 개통…시장은 불법 보조금 얼룩       5\n",
       "4  ynat-v1_train_00004      pI美대선I앞두고 R2fr단 발] $비해 감시 강화       6"
      ]
     },
     "execution_count": 2,
     "metadata": {},
     "output_type": "execute_result"
    }
   ],
   "source": [
    "df = pd.read_csv('../data/train.csv')\n",
    "df.head()"
   ]
  },
  {
   "cell_type": "code",
   "execution_count": 5,
   "metadata": {},
   "outputs": [
    {
     "data": {
      "text/html": [
       "<div>\n",
       "<style scoped>\n",
       "    .dataframe tbody tr th:only-of-type {\n",
       "        vertical-align: middle;\n",
       "    }\n",
       "\n",
       "    .dataframe tbody tr th {\n",
       "        vertical-align: top;\n",
       "    }\n",
       "\n",
       "    .dataframe thead th {\n",
       "        text-align: right;\n",
       "    }\n",
       "</style>\n",
       "<table border=\"1\" class=\"dataframe\">\n",
       "  <thead>\n",
       "    <tr style=\"text-align: right;\">\n",
       "      <th></th>\n",
       "      <th>ID</th>\n",
       "      <th>text</th>\n",
       "      <th>target</th>\n",
       "    </tr>\n",
       "  </thead>\n",
       "  <tbody>\n",
       "    <tr>\n",
       "      <th>134</th>\n",
       "      <td>ynat-v1_train_00134</td>\n",
       "      <td>코오롱플라스틱 1분기 연결 영업익 58억원…138%↑</td>\n",
       "      <td>6</td>\n",
       "    </tr>\n",
       "    <tr>\n",
       "      <th>154</th>\n",
       "      <td>ynat-v1_train_00154</td>\n",
       "      <td>[반기 전}FjQQ 74Q여z…L년보~ 3.1%↓</td>\n",
       "      <td>5</td>\n",
       "    </tr>\n",
       "    <tr>\n",
       "      <th>156</th>\n",
       "      <td>ynat-v1_train_00156</td>\n",
       "      <td>GS칼텍스 IBK기업은행과 세터 이나연↔이고은 트레이드</td>\n",
       "      <td>5</td>\n",
       "    </tr>\n",
       "    <tr>\n",
       "      <th>169</th>\n",
       "      <td>ynat-v1_train_00169</td>\n",
       "      <td>e5 &gt;사채 @행V0.9조원…Or대비O55z↑</td>\n",
       "      <td>5</td>\n",
       "    </tr>\n",
       "    <tr>\n",
       "      <th>186</th>\n",
       "      <td>ynat-v1_train_00186</td>\n",
       "      <td>KB증권 농심 4분기 라면 부문 실적개선…목표주가↑</td>\n",
       "      <td>6</td>\n",
       "    </tr>\n",
       "  </tbody>\n",
       "</table>\n",
       "</div>"
      ],
      "text/plain": [
       "                      ID                            text  target\n",
       "134  ynat-v1_train_00134   코오롱플라스틱 1분기 연결 영업익 58억원…138%↑       6\n",
       "154  ynat-v1_train_00154     [반기 전}FjQQ 74Q여z…L년보~ 3.1%↓       5\n",
       "156  ynat-v1_train_00156  GS칼텍스 IBK기업은행과 세터 이나연↔이고은 트레이드       5\n",
       "169  ynat-v1_train_00169       e5 >사채 @행V0.9조원…Or대비O55z↑       5\n",
       "186  ynat-v1_train_00186    KB증권 농심 4분기 라면 부문 실적개선…목표주가↑       6"
      ]
     },
     "execution_count": 5,
     "metadata": {},
     "output_type": "execute_result"
    }
   ],
   "source": [
    "# 화살표가 포함된 행을 필터링\n",
    "arrows = ['→', '←', '↑', '↓', '↔']\n",
    "mask = df['text'].str.contains('|'.join(arrows))  # 화살표 기호가 포함된 행 찾기\n",
    "df_with_arrows = df[mask]\n",
    "\n",
    "# 결과 출력\n",
    "df_with_arrows.head()"
   ]
  },
  {
   "cell_type": "code",
   "execution_count": 6,
   "metadata": {},
   "outputs": [],
   "source": [
    "# 공백으로 대체\n",
    "df['text'] = df['text'].str.replace('…', ' ', regex=False)\n",
    "df['text'] = df['text'].str.replace('...', ' ', regex=False)\n",
    "df['text'] = df['text'].str.replace('·', ' ', regex=False)\n",
    "# 화살표 기호 의미 대체\n",
    "df['text'] = df['text'].str.replace('→', '에서', regex=False)\n",
    "df['text'] = df['text'].str.replace('↑', '상승', regex=False)\n",
    "df['text'] = df['text'].str.replace('↓', '하락', regex=False)\n",
    "df['text'] = df['text'].str.replace('↔', ' ', regex=False)"
   ]
  },
  {
   "cell_type": "code",
   "execution_count": 7,
   "metadata": {},
   "outputs": [
    {
     "data": {
      "text/html": [
       "<div>\n",
       "<style scoped>\n",
       "    .dataframe tbody tr th:only-of-type {\n",
       "        vertical-align: middle;\n",
       "    }\n",
       "\n",
       "    .dataframe tbody tr th {\n",
       "        vertical-align: top;\n",
       "    }\n",
       "\n",
       "    .dataframe thead th {\n",
       "        text-align: right;\n",
       "    }\n",
       "</style>\n",
       "<table border=\"1\" class=\"dataframe\">\n",
       "  <thead>\n",
       "    <tr style=\"text-align: right;\">\n",
       "      <th></th>\n",
       "      <th>ID</th>\n",
       "      <th>text</th>\n",
       "      <th>target</th>\n",
       "    </tr>\n",
       "  </thead>\n",
       "  <tbody>\n",
       "    <tr>\n",
       "      <th>133</th>\n",
       "      <td>ynat-v1_train_00133</td>\n",
       "      <td>?씨D m년 h업8 16&lt;K* h4.8%3</td>\n",
       "      <td>5</td>\n",
       "    </tr>\n",
       "    <tr>\n",
       "      <th>154</th>\n",
       "      <td>ynat-v1_train_00154</td>\n",
       "      <td>[반기 전}FjQQ 74Q여z L년보~ 3.1%하락</td>\n",
       "      <td>5</td>\n",
       "    </tr>\n",
       "    <tr>\n",
       "      <th>473</th>\n",
       "      <td>ynat-v1_train_00473</td>\n",
       "      <td>네이버 검색 광고 전체 광고 매출의 82.4% 차지</td>\n",
       "      <td>0</td>\n",
       "    </tr>\n",
       "    <tr>\n",
       "      <th>745</th>\n",
       "      <td>ynat-v1_train_00745</td>\n",
       "      <td>서울 표준주택 공시가 17.75%상승 15억 초과 고가주택 정밀 조준종합2보</td>\n",
       "      <td>4</td>\n",
       "    </tr>\n",
       "    <tr>\n",
       "      <th>929</th>\n",
       "      <td>ynat-v1_train_00929</td>\n",
       "      <td>(난해 OV은행 신용대w금리 3.2%p하락(#자 2천= 감소</td>\n",
       "      <td>5</td>\n",
       "    </tr>\n",
       "  </tbody>\n",
       "</table>\n",
       "</div>"
      ],
      "text/plain": [
       "                      ID                                        text  target\n",
       "133  ynat-v1_train_00133                     ?씨D m년 h업8 16<K* h4.8%3       5\n",
       "154  ynat-v1_train_00154                [반기 전}FjQQ 74Q여z L년보~ 3.1%하락       5\n",
       "473  ynat-v1_train_00473                네이버 검색 광고 전체 광고 매출의 82.4% 차지       0\n",
       "745  ynat-v1_train_00745  서울 표준주택 공시가 17.75%상승 15억 초과 고가주택 정밀 조준종합2보       4\n",
       "929  ynat-v1_train_00929           (난해 OV은행 신용대w금리 3.2%p하락(#자 2천= 감소       5"
      ]
     },
     "execution_count": 7,
     "metadata": {},
     "output_type": "execute_result"
    }
   ],
   "source": [
    "# 정규 표현식 정의: 소수점 뒤에 숫자가 있으며, 그 뒤에 '%'가 있는 패턴\n",
    "pattern = r'\\d+\\.\\d+%'\n",
    "\n",
    "# '.숫자%' 구성으로 이루어진 데이터 필터링\n",
    "df_filtered = df[df['text'].str.contains(pattern, regex=True)]\n",
    "\n",
    "# 결과 출력\n",
    "df_filtered.head()"
   ]
  },
  {
   "cell_type": "code",
   "execution_count": 8,
   "metadata": {},
   "outputs": [
    {
     "data": {
      "text/html": [
       "<div>\n",
       "<style scoped>\n",
       "    .dataframe tbody tr th:only-of-type {\n",
       "        vertical-align: middle;\n",
       "    }\n",
       "\n",
       "    .dataframe tbody tr th {\n",
       "        vertical-align: top;\n",
       "    }\n",
       "\n",
       "    .dataframe thead th {\n",
       "        text-align: right;\n",
       "    }\n",
       "</style>\n",
       "<table border=\"1\" class=\"dataframe\">\n",
       "  <thead>\n",
       "    <tr style=\"text-align: right;\">\n",
       "      <th></th>\n",
       "      <th>ID</th>\n",
       "      <th>text</th>\n",
       "      <th>target</th>\n",
       "      <th>special_char_count</th>\n",
       "      <th>special_char_ratio</th>\n",
       "    </tr>\n",
       "  </thead>\n",
       "  <tbody>\n",
       "    <tr>\n",
       "      <th>624</th>\n",
       "      <td>ynat-v1_train_00624</td>\n",
       "      <td>사건!&gt;실\"를 b$#라 #극)]체O.;월f:?</td>\n",
       "      <td>0</td>\n",
       "      <td>14</td>\n",
       "      <td>0.560000</td>\n",
       "    </tr>\n",
       "    <tr>\n",
       "      <th>2413</th>\n",
       "      <td>ynat-v1_train_02413</td>\n",
       "      <td>전W;참c 이nd 유j]\"m객ie((우려` ?&lt;. 개조</td>\n",
       "      <td>6</td>\n",
       "      <td>16</td>\n",
       "      <td>0.533333</td>\n",
       "    </tr>\n",
       "    <tr>\n",
       "      <th>2275</th>\n",
       "      <td>ynat-v1_train_02275</td>\n",
       "      <td>더*} ]i대+ 김현권!v원a}_대8*vdL줄!알았d</td>\n",
       "      <td>2</td>\n",
       "      <td>15</td>\n",
       "      <td>0.500000</td>\n",
       "    </tr>\n",
       "    <tr>\n",
       "      <th>2765</th>\n",
       "      <td>ynat-v1_train_02765</td>\n",
       "      <td>$G ;!p 서울 |곳 나vo객 =적\"bs 귀s,d거)</td>\n",
       "      <td>3</td>\n",
       "      <td>15</td>\n",
       "      <td>0.500000</td>\n",
       "    </tr>\n",
       "    <tr>\n",
       "      <th>1203</th>\n",
       "      <td>ynat-v1_train_01203</td>\n",
       "      <td>nO통령z\\후 p싱턴으로 ^R!與지p부 @re-#{{\\</td>\n",
       "      <td>2</td>\n",
       "      <td>15</td>\n",
       "      <td>0.500000</td>\n",
       "    </tr>\n",
       "  </tbody>\n",
       "</table>\n",
       "</div>"
      ],
      "text/plain": [
       "                       ID  ... special_char_ratio\n",
       "624   ynat-v1_train_00624  ...           0.560000\n",
       "2413  ynat-v1_train_02413  ...           0.533333\n",
       "2275  ynat-v1_train_02275  ...           0.500000\n",
       "2765  ynat-v1_train_02765  ...           0.500000\n",
       "1203  ynat-v1_train_01203  ...           0.500000\n",
       "\n",
       "[5 rows x 5 columns]"
      ]
     },
     "execution_count": 8,
     "metadata": {},
     "output_type": "execute_result"
    }
   ],
   "source": [
    "# 특수 기호의 패턴 정의\n",
    "# 이 예시에서는 영숫자 이외의 모든 기호를 특수 기호로 간주합니다.\n",
    "# special_char_pattern = r'[^가-힣A-Z\\u4E00-\\u9FFF\\s0-9]'\n",
    "# .숫자% 형식을 제외하고, ㎜도 특수 기호에서 제외\n",
    "special_char_pattern = r'(?<!\\d)\\.(?!\\d)|(?<!\\d)%|[^가-힣A-Z\\u4E00-\\u9FFF\\s0-9\\.%㎜㎡]'\n",
    "\n",
    "# 각 text에 포함된 특수 기호의 개수를 세는 함수 정의\n",
    "def count_special_characters(text):\n",
    "    return len(re.findall(special_char_pattern, text))\n",
    "\n",
    "# 데이터프레임에 새로운 열 추가\n",
    "df['special_char_count'] = df['text'].apply(count_special_characters)\n",
    "df['special_char_ratio'] = df['special_char_count'] / df['text'].str.len()\n",
    "\n",
    "df_sorted = df.sort_values(by='special_char_ratio', ascending=False)\n",
    "\n",
    "# 결과 출력\n",
    "df_sorted.head()"
   ]
  },
  {
   "cell_type": "code",
   "execution_count": 9,
   "metadata": {},
   "outputs": [
    {
     "name": "stdout",
     "output_type": "stream",
     "text": [
      "1595\n"
     ]
    }
   ],
   "source": [
    "# 출력 옵션을 설정하여 모든 행이 표시되도록 함\n",
    "pd.set_option('display.max_rows', None)\n",
    "\n",
    "# special_char_ratio가 0.2 이상인 데이터 필터링\n",
    "noise_df = df_sorted[df_sorted['special_char_ratio'] >= 0.042]\n",
    "print(len(noise_df))\n",
    "\n",
    "# 결과 출력\n",
    "noise_df.head()\n",
    "\n",
    "# 출력 옵션을 원래대로 복구\n",
    "pd.reset_option('display.max_rows')"
   ]
  },
  {
   "cell_type": "code",
   "execution_count": 11,
   "metadata": {},
   "outputs": [
    {
     "name": "stdout",
     "output_type": "stream",
     "text": [
      "1205\n"
     ]
    },
    {
     "data": {
      "text/html": [
       "<div>\n",
       "<style scoped>\n",
       "    .dataframe tbody tr th:only-of-type {\n",
       "        vertical-align: middle;\n",
       "    }\n",
       "\n",
       "    .dataframe tbody tr th {\n",
       "        vertical-align: top;\n",
       "    }\n",
       "\n",
       "    .dataframe thead th {\n",
       "        text-align: right;\n",
       "    }\n",
       "</style>\n",
       "<table border=\"1\" class=\"dataframe\">\n",
       "  <thead>\n",
       "    <tr style=\"text-align: right;\">\n",
       "      <th></th>\n",
       "      <th>ID</th>\n",
       "      <th>text</th>\n",
       "      <th>target</th>\n",
       "      <th>special_char_count</th>\n",
       "      <th>special_char_ratio</th>\n",
       "    </tr>\n",
       "  </thead>\n",
       "  <tbody>\n",
       "    <tr>\n",
       "      <th>3</th>\n",
       "      <td>ynat-v1_train_00003</td>\n",
       "      <td>갤노트8 주말 27만대 개통 시장은 불법 보조금 얼룩</td>\n",
       "      <td>5</td>\n",
       "      <td>0</td>\n",
       "      <td>0.0</td>\n",
       "    </tr>\n",
       "    <tr>\n",
       "      <th>5</th>\n",
       "      <td>ynat-v1_train_00005</td>\n",
       "      <td>美성인 6명 중 1명꼴 배우자 연인 빚 떠안은 적 있다</td>\n",
       "      <td>0</td>\n",
       "      <td>0</td>\n",
       "      <td>0.0</td>\n",
       "    </tr>\n",
       "    <tr>\n",
       "      <th>7</th>\n",
       "      <td>ynat-v1_train_00007</td>\n",
       "      <td>아가메즈 33득점 우리카드 KB손해보험 완파 3위 굳</td>\n",
       "      <td>4</td>\n",
       "      <td>0</td>\n",
       "      <td>0.0</td>\n",
       "    </tr>\n",
       "    <tr>\n",
       "      <th>8</th>\n",
       "      <td>ynat-v1_train_00008</td>\n",
       "      <td>朴대통령 얼마나 많이 놀라셨어요 경주 지진현장 방문종합</td>\n",
       "      <td>6</td>\n",
       "      <td>0</td>\n",
       "      <td>0.0</td>\n",
       "    </tr>\n",
       "    <tr>\n",
       "      <th>9</th>\n",
       "      <td>ynat-v1_train_00009</td>\n",
       "      <td>듀얼심 아이폰 하반기 출시설 솔솔 알뜰폰 기대감</td>\n",
       "      <td>4</td>\n",
       "      <td>0</td>\n",
       "      <td>0.0</td>\n",
       "    </tr>\n",
       "  </tbody>\n",
       "</table>\n",
       "</div>"
      ],
      "text/plain": [
       "                    ID  ... special_char_ratio\n",
       "3  ynat-v1_train_00003  ...                0.0\n",
       "5  ynat-v1_train_00005  ...                0.0\n",
       "7  ynat-v1_train_00007  ...                0.0\n",
       "8  ynat-v1_train_00008  ...                0.0\n",
       "9  ynat-v1_train_00009  ...                0.0\n",
       "\n",
       "[5 rows x 5 columns]"
      ]
     },
     "execution_count": 11,
     "metadata": {},
     "output_type": "execute_result"
    }
   ],
   "source": [
    "# df_high_ratio의 인덱스를 이용하여 제외할 행을 찾음\n",
    "clean_df = df[~df.index.isin(noise_df.index)]\n",
    "\n",
    "print(len(clean_df))\n",
    "clean_df.head()"
   ]
  },
  {
   "cell_type": "markdown",
   "metadata": {},
   "source": [
    "# 클러스터링 기반 라벨링 확인"
   ]
  },
  {
   "cell_type": "code",
   "execution_count": 12,
   "metadata": {},
   "outputs": [
    {
     "data": {
      "text/plain": [
       "<Compressed Sparse Row sparse matrix of dtype 'float64'\n",
       "\twith 8019 stored elements and shape (1205, 5887)>"
      ]
     },
     "execution_count": 12,
     "metadata": {},
     "output_type": "execute_result"
    }
   ],
   "source": [
    "vectorizer = TfidfVectorizer()\n",
    "X = vectorizer.fit_transform(clean_df['text'])\n",
    "X"
   ]
  },
  {
   "cell_type": "code",
   "execution_count": 13,
   "metadata": {},
   "outputs": [],
   "source": [
    "pca = PCA(n_components=2, random_state=42)\n",
    "X_pca = pca.fit_transform(X.toarray())"
   ]
  },
  {
   "cell_type": "code",
   "execution_count": 14,
   "metadata": {},
   "outputs": [
    {
     "name": "stderr",
     "output_type": "stream",
     "text": [
      "/tmp/ipykernel_47034/534411617.py:2: SettingWithCopyWarning: \n",
      "A value is trying to be set on a copy of a slice from a DataFrame.\n",
      "Try using .loc[row_indexer,col_indexer] = value instead\n",
      "\n",
      "See the caveats in the documentation: https://pandas.pydata.org/pandas-docs/stable/user_guide/indexing.html#returning-a-view-versus-a-copy\n",
      "  clean_df['cluster'] = kmeans.fit_predict(X_pca)\n"
     ]
    }
   ],
   "source": [
    "kmeans = KMeans(n_clusters=7, random_state=42)\n",
    "clean_df['cluster'] = kmeans.fit_predict(X_pca)"
   ]
  },
  {
   "cell_type": "code",
   "execution_count": 15,
   "metadata": {},
   "outputs": [
    {
     "name": "stderr",
     "output_type": "stream",
     "text": [
      "/opt/conda/lib/python3.10/site-packages/IPython/core/pylabtools.py:170: UserWarning: Glyph 47196 (\\N{HANGUL SYLLABLE RO}) missing from font(s) DejaVu Sans.\n",
      "  fig.canvas.print_figure(bytes_io, **kw)\n",
      "/opt/conda/lib/python3.10/site-packages/IPython/core/pylabtools.py:170: UserWarning: Glyph 52629 (\\N{HANGUL SYLLABLE CUG}) missing from font(s) DejaVu Sans.\n",
      "  fig.canvas.print_figure(bytes_io, **kw)\n",
      "/opt/conda/lib/python3.10/site-packages/IPython/core/pylabtools.py:170: UserWarning: Glyph 49548 (\\N{HANGUL SYLLABLE SO}) missing from font(s) DejaVu Sans.\n",
      "  fig.canvas.print_figure(bytes_io, **kw)\n",
      "/opt/conda/lib/python3.10/site-packages/IPython/core/pylabtools.py:170: UserWarning: Glyph 46108 (\\N{HANGUL SYLLABLE DOEN}) missing from font(s) DejaVu Sans.\n",
      "  fig.canvas.print_figure(bytes_io, **kw)\n",
      "/opt/conda/lib/python3.10/site-packages/IPython/core/pylabtools.py:170: UserWarning: Glyph 45684 (\\N{HANGUL SYLLABLE NYU}) missing from font(s) DejaVu Sans.\n",
      "  fig.canvas.print_figure(bytes_io, **kw)\n",
      "/opt/conda/lib/python3.10/site-packages/IPython/core/pylabtools.py:170: UserWarning: Glyph 49828 (\\N{HANGUL SYLLABLE SEU}) missing from font(s) DejaVu Sans.\n",
      "  fig.canvas.print_figure(bytes_io, **kw)\n",
      "/opt/conda/lib/python3.10/site-packages/IPython/core/pylabtools.py:170: UserWarning: Glyph 51228 (\\N{HANGUL SYLLABLE JE}) missing from font(s) DejaVu Sans.\n",
      "  fig.canvas.print_figure(bytes_io, **kw)\n",
      "/opt/conda/lib/python3.10/site-packages/IPython/core/pylabtools.py:170: UserWarning: Glyph 47785 (\\N{HANGUL SYLLABLE MOG}) missing from font(s) DejaVu Sans.\n",
      "  fig.canvas.print_figure(bytes_io, **kw)\n",
      "/opt/conda/lib/python3.10/site-packages/IPython/core/pylabtools.py:170: UserWarning: Glyph 51032 (\\N{HANGUL SYLLABLE YI}) missing from font(s) DejaVu Sans.\n",
      "  fig.canvas.print_figure(bytes_io, **kw)\n",
      "/opt/conda/lib/python3.10/site-packages/IPython/core/pylabtools.py:170: UserWarning: Glyph 53364 (\\N{HANGUL SYLLABLE KEUL}) missing from font(s) DejaVu Sans.\n",
      "  fig.canvas.print_figure(bytes_io, **kw)\n",
      "/opt/conda/lib/python3.10/site-packages/IPython/core/pylabtools.py:170: UserWarning: Glyph 47084 (\\N{HANGUL SYLLABLE REO}) missing from font(s) DejaVu Sans.\n",
      "  fig.canvas.print_figure(bytes_io, **kw)\n",
      "/opt/conda/lib/python3.10/site-packages/IPython/core/pylabtools.py:170: UserWarning: Glyph 53552 (\\N{HANGUL SYLLABLE TEO}) missing from font(s) DejaVu Sans.\n",
      "  fig.canvas.print_figure(bytes_io, **kw)\n",
      "/opt/conda/lib/python3.10/site-packages/IPython/core/pylabtools.py:170: UserWarning: Glyph 47553 (\\N{HANGUL SYLLABLE RING}) missing from font(s) DejaVu Sans.\n",
      "  fig.canvas.print_figure(bytes_io, **kw)\n",
      "/opt/conda/lib/python3.10/site-packages/IPython/core/pylabtools.py:170: UserWarning: Glyph 44208 (\\N{HANGUL SYLLABLE GYEOL}) missing from font(s) DejaVu Sans.\n",
      "  fig.canvas.print_figure(bytes_io, **kw)\n",
      "/opt/conda/lib/python3.10/site-packages/IPython/core/pylabtools.py:170: UserWarning: Glyph 44284 (\\N{HANGUL SYLLABLE GWA}) missing from font(s) DejaVu Sans.\n",
      "  fig.canvas.print_figure(bytes_io, **kw)\n"
     ]
    },
    {
     "data": {
      "image/png": "[encoded data removed]",
      "text/plain": [
       "<Figure size 1200x800 with 1 Axes>"
      ]
     },
     "metadata": {},
     "output_type": "display_data"
    }
   ],
   "source": [
    "plt.figure(figsize=(12, 8))\n",
    "sns.scatterplot(x=X_pca[:, 0], y=X_pca[:, 1], hue=clean_df['target'], palette='Set1', s=100, alpha=0.6, edgecolor='w')\n",
    "plt.title('PCA로 축소된 뉴스 제목의 클러스터링 결과')\n",
    "plt.xlabel('PCA Component 1')\n",
    "plt.ylabel('PCA Component 2')\n",
    "plt.legend(title='Actual Label')\n",
    "plt.show()"
   ]
  },
  {
   "cell_type": "code",
   "execution_count": 16,
   "metadata": {},
   "outputs": [
    {
     "name": "stdout",
     "output_type": "stream",
     "text": [
      "잘못 라벨링된 데이터 수: 1020\n"
     ]
    },
    {
     "name": "stderr",
     "output_type": "stream",
     "text": [
      "/tmp/ipykernel_47034/954704717.py:1: SettingWithCopyWarning: \n",
      "A value is trying to be set on a copy of a slice from a DataFrame.\n",
      "Try using .loc[row_indexer,col_indexer] = value instead\n",
      "\n",
      "See the caveats in the documentation: https://pandas.pydata.org/pandas-docs/stable/user_guide/indexing.html#returning-a-view-versus-a-copy\n",
      "  clean_df['label_match'] = clean_df['target'] == clean_df['cluster']\n"
     ]
    },
    {
     "data": {
      "text/html": [
       "<div>\n",
       "<style scoped>\n",
       "    .dataframe tbody tr th:only-of-type {\n",
       "        vertical-align: middle;\n",
       "    }\n",
       "\n",
       "    .dataframe tbody tr th {\n",
       "        vertical-align: top;\n",
       "    }\n",
       "\n",
       "    .dataframe thead th {\n",
       "        text-align: right;\n",
       "    }\n",
       "</style>\n",
       "<table border=\"1\" class=\"dataframe\">\n",
       "  <thead>\n",
       "    <tr style=\"text-align: right;\">\n",
       "      <th></th>\n",
       "      <th>text</th>\n",
       "      <th>target</th>\n",
       "      <th>cluster</th>\n",
       "    </tr>\n",
       "  </thead>\n",
       "  <tbody>\n",
       "    <tr>\n",
       "      <th>3</th>\n",
       "      <td>갤노트8 주말 27만대 개통 시장은 불법 보조금 얼룩</td>\n",
       "      <td>5</td>\n",
       "      <td>3</td>\n",
       "    </tr>\n",
       "    <tr>\n",
       "      <th>7</th>\n",
       "      <td>아가메즈 33득점 우리카드 KB손해보험 완파 3위 굳</td>\n",
       "      <td>4</td>\n",
       "      <td>0</td>\n",
       "    </tr>\n",
       "    <tr>\n",
       "      <th>8</th>\n",
       "      <td>朴대통령 얼마나 많이 놀라셨어요 경주 지진현장 방문종합</td>\n",
       "      <td>6</td>\n",
       "      <td>0</td>\n",
       "    </tr>\n",
       "    <tr>\n",
       "      <th>9</th>\n",
       "      <td>듀얼심 아이폰 하반기 출시설 솔솔 알뜰폰 기대감</td>\n",
       "      <td>4</td>\n",
       "      <td>0</td>\n",
       "    </tr>\n",
       "    <tr>\n",
       "      <th>11</th>\n",
       "      <td>NH투자 1월 옵션 만기일 매도 우세</td>\n",
       "      <td>1</td>\n",
       "      <td>0</td>\n",
       "    </tr>\n",
       "    <tr>\n",
       "      <th>...</th>\n",
       "      <td>...</td>\n",
       "      <td>...</td>\n",
       "      <td>...</td>\n",
       "    </tr>\n",
       "    <tr>\n",
       "      <th>2793</th>\n",
       "      <td>경찰 5월초 유커와 日관광객위해 바가지 요금 집중 단속</td>\n",
       "      <td>1</td>\n",
       "      <td>0</td>\n",
       "    </tr>\n",
       "    <tr>\n",
       "      <th>2794</th>\n",
       "      <td>문 대통령 김기식 금감원장 사표 수리키로종합</td>\n",
       "      <td>2</td>\n",
       "      <td>4</td>\n",
       "    </tr>\n",
       "    <tr>\n",
       "      <th>2795</th>\n",
       "      <td>트럼프 폭스뉴스 앵커들 충성도 점수매겨 10점만점에 12점도</td>\n",
       "      <td>6</td>\n",
       "      <td>0</td>\n",
       "    </tr>\n",
       "    <tr>\n",
       "      <th>2798</th>\n",
       "      <td>인터뷰 류현진 친구에게 안타 맞는 것 싫어해 승부는 냉정</td>\n",
       "      <td>1</td>\n",
       "      <td>0</td>\n",
       "    </tr>\n",
       "    <tr>\n",
       "      <th>2799</th>\n",
       "      <td>지능정보사회 대비 국가 종합대책 마련</td>\n",
       "      <td>4</td>\n",
       "      <td>0</td>\n",
       "    </tr>\n",
       "  </tbody>\n",
       "</table>\n",
       "<p>1020 rows × 3 columns</p>\n",
       "</div>"
      ],
      "text/plain": [
       "                                   text  target  cluster\n",
       "3         갤노트8 주말 27만대 개통 시장은 불법 보조금 얼룩       5        3\n",
       "7        아가메즈 33득점 우리카드 KB손해보험 완파 3위 굳        4        0\n",
       "8        朴대통령 얼마나 많이 놀라셨어요 경주 지진현장 방문종합       6        0\n",
       "9            듀얼심 아이폰 하반기 출시설 솔솔 알뜰폰 기대감       4        0\n",
       "11                 NH투자 1월 옵션 만기일 매도 우세       1        0\n",
       "...                                 ...     ...      ...\n",
       "2793     경찰 5월초 유커와 日관광객위해 바가지 요금 집중 단속       1        0\n",
       "2794           문 대통령 김기식 금감원장 사표 수리키로종합       2        4\n",
       "2795  트럼프 폭스뉴스 앵커들 충성도 점수매겨 10점만점에 12점도       6        0\n",
       "2798    인터뷰 류현진 친구에게 안타 맞는 것 싫어해 승부는 냉정       1        0\n",
       "2799               지능정보사회 대비 국가 종합대책 마련       4        0\n",
       "\n",
       "[1020 rows x 3 columns]"
      ]
     },
     "metadata": {},
     "output_type": "display_data"
    }
   ],
   "source": [
    "clean_df['label_match'] = clean_df['target'] == clean_df['cluster']\n",
    "mismatched_labels = clean_df[clean_df['label_match'] == False]\n",
    "print(f\"잘못 라벨링된 데이터 수: {len(mismatched_labels)}\")\n",
    "display(mismatched_labels[['text', 'target', 'cluster']])\n"
   ]
  }
 ],
 "metadata": {
  "kernelspec": {
   "display_name": "base",
   "language": "python",
   "name": "python3"
  },
  "language_info": {
   "codemirror_mode": {
    "name": "ipython",
    "version": 3
   },
   "file_extension": ".py",
   "mimetype": "text/x-python",
   "name": "python",
   "nbconvert_exporter": "python",
   "pygments_lexer": "ipython3",
   "version": "3.10.15"
  }
 },
 "nbformat": 4,
 "nbformat_minor": 2
}
