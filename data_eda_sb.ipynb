{
 "cells": [
  {
   "cell_type": "markdown",
   "metadata": {},
   "source": [
    "# Data EDA\n",
    "\n",
    "* 데이터 라벨\n",
    "\n",
    "|0|1|2|3|4|5|6|\n",
    "|:-:|:-:|:-:|:-:|:-:|:-:|:-:|\n",
    "|생활문화|스포츠|사회|세계|IT과학|경제|정치|"
   ]
  },
  {
   "cell_type": "markdown",
   "metadata": {},
   "source": [
    "# Library import 단계"
   ]
  },
  {
   "cell_type": "code",
   "execution_count": 2,
   "metadata": {},
   "outputs": [],
   "source": [
    "import pandas as pd\n",
    "import matplotlib.pyplot as plt"
   ]
  },
  {
   "cell_type": "markdown",
   "metadata": {},
   "source": [
    "# Noise vs Non - Noise 분류\n",
    "* Noise가 포함된 데이터가 1600개\n",
    "  * 이때 Noise는 기사의 제목의 일부는 랜던함 `ASCII`로 변환함.\n",
    "* Non - Noise가 포함된 데이터가 1200개\n",
    "  * Non - Noise에서 제대로 Label된 데이터가 200개, label의 섞인 데이터가 1000개"
   ]
  },
  {
   "cell_type": "code",
   "execution_count": 3,
   "metadata": {},
   "outputs": [
    {
     "data": {
      "text/html": [
       "<div>\n",
       "<style scoped>\n",
       "    .dataframe tbody tr th:only-of-type {\n",
       "        vertical-align: middle;\n",
       "    }\n",
       "\n",
       "    .dataframe tbody tr th {\n",
       "        vertical-align: top;\n",
       "    }\n",
       "\n",
       "    .dataframe thead th {\n",
       "        text-align: right;\n",
       "    }\n",
       "</style>\n",
       "<table border=\"1\" class=\"dataframe\">\n",
       "  <thead>\n",
       "    <tr style=\"text-align: right;\">\n",
       "      <th></th>\n",
       "      <th>ID</th>\n",
       "      <th>text</th>\n",
       "      <th>target</th>\n",
       "    </tr>\n",
       "  </thead>\n",
       "  <tbody>\n",
       "    <tr>\n",
       "      <th>0</th>\n",
       "      <td>ynat-v1_train_00000</td>\n",
       "      <td>정i :파1 미사z KT( 이용기간 2e 단] Q분종U2보</td>\n",
       "      <td>4</td>\n",
       "    </tr>\n",
       "    <tr>\n",
       "      <th>1</th>\n",
       "      <td>ynat-v1_train_00001</td>\n",
       "      <td>K찰.국DLwo 로L3한N% 회장 2 T0&amp;}송=</td>\n",
       "      <td>3</td>\n",
       "    </tr>\n",
       "    <tr>\n",
       "      <th>2</th>\n",
       "      <td>ynat-v1_train_00002</td>\n",
       "      <td>m 김정) 자주통일 새,?r열1나가야1보</td>\n",
       "      <td>2</td>\n",
       "    </tr>\n",
       "    <tr>\n",
       "      <th>3</th>\n",
       "      <td>ynat-v1_train_00003</td>\n",
       "      <td>갤노트8 주말 27만대 개통…시장은 불법 보조금 얼룩</td>\n",
       "      <td>5</td>\n",
       "    </tr>\n",
       "    <tr>\n",
       "      <th>4</th>\n",
       "      <td>ynat-v1_train_00004</td>\n",
       "      <td>pI美대선I앞두고 R2fr단 발] $비해 감시 강화</td>\n",
       "      <td>6</td>\n",
       "    </tr>\n",
       "  </tbody>\n",
       "</table>\n",
       "</div>"
      ],
      "text/plain": [
       "                    ID                              text  target\n",
       "0  ynat-v1_train_00000  정i :파1 미사z KT( 이용기간 2e 단] Q분종U2보       4\n",
       "1  ynat-v1_train_00001       K찰.국DLwo 로L3한N% 회장 2 T0&}송=       3\n",
       "2  ynat-v1_train_00002            m 김정) 자주통일 새,?r열1나가야1보       2\n",
       "3  ynat-v1_train_00003     갤노트8 주말 27만대 개통…시장은 불법 보조금 얼룩       5\n",
       "4  ynat-v1_train_00004      pI美대선I앞두고 R2fr단 발] $비해 감시 강화       6"
      ]
     },
     "execution_count": 3,
     "metadata": {},
     "output_type": "execute_result"
    }
   ],
   "source": [
    "# train_data 불러오기\n",
    "data = pd.read_csv('./data/train.csv')\n",
    "data.head()"
   ]
  },
  {
   "cell_type": "code",
   "execution_count": 4,
   "metadata": {},
   "outputs": [
    {
     "data": {
      "text/plain": [
       "[397, 410, 388, 385, 406, 419, 395]"
      ]
     },
     "execution_count": 4,
     "metadata": {},
     "output_type": "execute_result"
    }
   ],
   "source": [
    "## 데이터 분포 확인.\n",
    "label_distribution = []\n",
    "for num in range(7):\n",
    "    cond = data['target'] == num\n",
    "    result = len(data[cond])\n",
    "    label_distribution.append(result)\n",
    "label_distribution\n"
   ]
  },
  {
   "cell_type": "code",
   "execution_count": 5,
   "metadata": {},
   "outputs": [
    {
     "data": {
      "text/html": [
       "<div>\n",
       "<style scoped>\n",
       "    .dataframe tbody tr th:only-of-type {\n",
       "        vertical-align: middle;\n",
       "    }\n",
       "\n",
       "    .dataframe tbody tr th {\n",
       "        vertical-align: top;\n",
       "    }\n",
       "\n",
       "    .dataframe thead th {\n",
       "        text-align: right;\n",
       "    }\n",
       "</style>\n",
       "<table border=\"1\" class=\"dataframe\">\n",
       "  <thead>\n",
       "    <tr style=\"text-align: right;\">\n",
       "      <th></th>\n",
       "      <th>ID</th>\n",
       "      <th>text</th>\n",
       "      <th>target</th>\n",
       "    </tr>\n",
       "  </thead>\n",
       "  <tbody>\n",
       "    <tr>\n",
       "      <th>0</th>\n",
       "      <td>ynat-v1_train_00000</td>\n",
       "      <td>정i :파1 미사z KT( 이용기간 2e 단] Q분종U2보</td>\n",
       "      <td>IT과학</td>\n",
       "    </tr>\n",
       "    <tr>\n",
       "      <th>1</th>\n",
       "      <td>ynat-v1_train_00001</td>\n",
       "      <td>K찰.국DLwo 로L3한N% 회장 2 T0&amp;}송=</td>\n",
       "      <td>세계</td>\n",
       "    </tr>\n",
       "    <tr>\n",
       "      <th>2</th>\n",
       "      <td>ynat-v1_train_00002</td>\n",
       "      <td>m 김정) 자주통일 새,?r열1나가야1보</td>\n",
       "      <td>사회</td>\n",
       "    </tr>\n",
       "  </tbody>\n",
       "</table>\n",
       "</div>"
      ],
      "text/plain": [
       "                    ID                              text target\n",
       "0  ynat-v1_train_00000  정i :파1 미사z KT( 이용기간 2e 단] Q분종U2보   IT과학\n",
       "1  ynat-v1_train_00001       K찰.국DLwo 로L3한N% 회장 2 T0&}송=     세계\n",
       "2  ynat-v1_train_00002            m 김정) 자주통일 새,?r열1나가야1보     사회"
      ]
     },
     "execution_count": 5,
     "metadata": {},
     "output_type": "execute_result"
    }
   ],
   "source": [
    "def mapping_label(df):\n",
    "    # 딕셔너리로 매핑 정의\n",
    "    label_map = {\n",
    "        0:'생활문화',1:'스포츠',2:'사회',3:'세계',4:'IT과학',5:'경제',6:'정치'\n",
    "    }\n",
    "    \n",
    "    # map 함수를 사용하여 변환\n",
    "    df['target'] = df['target'].map(label_map)\n",
    "    \n",
    "    return df\n",
    "\n",
    "# 사용\n",
    "df = mapping_label(data)\n",
    "df.head(3)"
   ]
  },
  {
   "cell_type": "code",
   "execution_count": 14,
   "metadata": {},
   "outputs": [
    {
     "name": "stdout",
     "output_type": "stream",
     "text": [
      "ASCII 분석 결과:\n"
     ]
    },
    {
     "data": {
      "text/html": [
       "<div>\n",
       "<style scoped>\n",
       "    .dataframe tbody tr th:only-of-type {\n",
       "        vertical-align: middle;\n",
       "    }\n",
       "\n",
       "    .dataframe tbody tr th {\n",
       "        vertical-align: top;\n",
       "    }\n",
       "\n",
       "    .dataframe thead th {\n",
       "        text-align: right;\n",
       "    }\n",
       "</style>\n",
       "<table border=\"1\" class=\"dataframe\">\n",
       "  <thead>\n",
       "    <tr style=\"text-align: right;\">\n",
       "      <th></th>\n",
       "      <th>text</th>\n",
       "      <th>ascii_count</th>\n",
       "      <th>is_english_ascii</th>\n",
       "      <th>is_all_uppercase</th>\n",
       "      <th>ascii_ratio</th>\n",
       "      <th>uppercase_ratio</th>\n",
       "    </tr>\n",
       "  </thead>\n",
       "  <tbody>\n",
       "    <tr>\n",
       "      <th>0</th>\n",
       "      <td>정i :파1 미사z KT( 이용기간 2e 단] Q분종U2보</td>\n",
       "      <td>13</td>\n",
       "      <td>False</td>\n",
       "      <td>False</td>\n",
       "      <td>0.406250</td>\n",
       "      <td>0.307692</td>\n",
       "    </tr>\n",
       "    <tr>\n",
       "      <th>1</th>\n",
       "      <td>K찰.국DLwo 로L3한N% 회장 2 T0&amp;}송=</td>\n",
       "      <td>16</td>\n",
       "      <td>False</td>\n",
       "      <td>False</td>\n",
       "      <td>0.592593</td>\n",
       "      <td>0.375000</td>\n",
       "    </tr>\n",
       "    <tr>\n",
       "      <th>2</th>\n",
       "      <td>m 김정) 자주통일 새,?r열1나가야1보</td>\n",
       "      <td>7</td>\n",
       "      <td>False</td>\n",
       "      <td>False</td>\n",
       "      <td>0.318182</td>\n",
       "      <td>0.000000</td>\n",
       "    </tr>\n",
       "    <tr>\n",
       "      <th>3</th>\n",
       "      <td>갤노트8 주말 27만대 개통 시장은 불법 보조금 얼룩</td>\n",
       "      <td>3</td>\n",
       "      <td>False</td>\n",
       "      <td>False</td>\n",
       "      <td>0.103448</td>\n",
       "      <td>0.000000</td>\n",
       "    </tr>\n",
       "    <tr>\n",
       "      <th>4</th>\n",
       "      <td>pI美대선I앞두고 R2fr단 발] $비해 감시 강화</td>\n",
       "      <td>9</td>\n",
       "      <td>False</td>\n",
       "      <td>False</td>\n",
       "      <td>0.321429</td>\n",
       "      <td>0.333333</td>\n",
       "    </tr>\n",
       "  </tbody>\n",
       "</table>\n",
       "</div>"
      ],
      "text/plain": [
       "                               text  ascii_count  is_english_ascii  \\\n",
       "0  정i :파1 미사z KT( 이용기간 2e 단] Q분종U2보           13             False   \n",
       "1       K찰.국DLwo 로L3한N% 회장 2 T0&}송=           16             False   \n",
       "2            m 김정) 자주통일 새,?r열1나가야1보            7             False   \n",
       "3     갤노트8 주말 27만대 개통 시장은 불법 보조금 얼룩            3             False   \n",
       "4      pI美대선I앞두고 R2fr단 발] $비해 감시 강화            9             False   \n",
       "\n",
       "   is_all_uppercase  ascii_ratio  uppercase_ratio  \n",
       "0             False     0.406250         0.307692  \n",
       "1             False     0.592593         0.375000  \n",
       "2             False     0.318182         0.000000  \n",
       "3             False     0.103448         0.000000  \n",
       "4             False     0.321429         0.333333  "
      ]
     },
     "execution_count": 14,
     "metadata": {},
     "output_type": "execute_result"
    }
   ],
   "source": [
    "## 현재 문장에서 ascii의 비율과, ascii의 비율 중 영어와 대문자가 있는 경우에 대한 확인.\n",
    "def calculate_ascii(text):\n",
    "    # 공백을 제외한 ASCII 문자들\n",
    "    ascii_chars = [char for char in text if ord(char) < 128 and not char.isspace()]\n",
    "    ascii_count = len(ascii_chars)\n",
    "    ascii_ratio = ascii_count / len(text)\n",
    "\n",
    "    # ASCII 문자들이 영어에 대한 \n",
    "    english_chars = [char for char in ascii_chars if char.isalpha()]\n",
    "    has_english = len(english_chars) > 0\n",
    "    # 영어 관련 체크 영어 관련 내용이 있을경우\n",
    "    is_english_only = all(char.isalpha() for char in ascii_chars) if has_english else False\n",
    "    # 대문자 관련 계산 (영어가 하나라도 있을 때만 체크)\n",
    "    is_all_uppercase = all(char.isupper() for char in english_chars) if has_english else False\n",
    "    uppercase_count = sum(1 for char in ascii_chars if char.isupper())\n",
    "    uppercase_ratio = uppercase_count / len(ascii_chars) if ascii_chars else 0\n",
    "    \n",
    "    return ascii_count, is_english_only, is_all_uppercase, ascii_ratio, uppercase_ratio\n",
    "\n",
    "df['text'] = df['text'].str.replace('...', ' ').str.replace('…', ' ')\n",
    "df['length'] = df['text'].map(len)\n",
    "df['ascii_count'], df['is_english_ascii'], df['is_all_uppercase'], df['ascii_ratio'], df['uppercase_ratio'] = zip(*df['text'].apply(calculate_ascii))\n",
    "\n",
    "# 결과 확인\n",
    "print(\"ASCII 분석 결과:\")\n",
    "df[['text', 'ascii_count', 'is_english_ascii', 'is_all_uppercase', 'ascii_ratio', 'uppercase_ratio']].head()"
   ]
  },
  {
   "cell_type": "markdown",
   "metadata": {},
   "source": [
    "## 조건 별 결과 확인\n",
    "* Text의 ASCII 비율이 20% 초과인 경우 : 1643\n",
    "* ASCII 비율중 대문자 영어의 90% 이상인 경우 : 140\n",
    "  * `미세먼지 싫어N` 이거 말고는 전부 정상적인 text(확인 완료)\n",
    "* 전체 데이터셋에서 ASCII가 영어로만 구성되어 있는 샘플\n",
    "  * `9/27`개 가 잘못되어 잇음\n",
    "  * 해당 과정 중에 대문자의 비율이 0.8 이상은 `10개`\n",
    "    * `IoT로 쓰레기통 관리해요`는 정상 문자 -> not 아스키\n",
    "    * `L자Mk 삼성생D OK저축은P에 완승 연패 탈출`이 부분에 대해 관련해서는 잘못된 부분인데 비율이 0.857정도로 오히려 구분 안됨\n"
   ]
  },
  {
   "cell_type": "code",
   "execution_count": 41,
   "metadata": {},
   "outputs": [],
   "source": [
    "cond1 = df['ascii_ratio'] >= 0.2\n",
    "cond2 = df['uppercase_ratio'] < 0.8\n",
    "cond3 = df['is_english_ascii']"
   ]
  },
  {
   "cell_type": "code",
   "execution_count": 16,
   "metadata": {},
   "outputs": [
    {
     "data": {
      "text/plain": [
       "140"
      ]
     },
     "execution_count": 16,
     "metadata": {},
     "output_type": "execute_result"
    }
   ],
   "source": [
    "high_ascii = df[~cond2]\n",
    "len(high_ascii)\n"
   ]
  },
  {
   "cell_type": "code",
   "execution_count": null,
   "metadata": {},
   "outputs": [],
   "source": [
    "# 두번째 확인 결련 코드\n",
    "total_rows = len(high_ascii)\n",
    "chunk_size = 20\n",
    "\n",
    "for i in range(0, total_rows, chunk_size):\n",
    "    chunk = high_ascii.iloc[i:i + chunk_size]\n",
    "    print(f\"\\n=== {i+1}~{min(i+chunk_size, total_rows)}번째 데이터 ===\")\n",
    "    print(chunk[['text']])\n",
    "    \n",
    "    # 다음 20개를 보려면 엔터를 누르세요\n",
    "    input(\"\\n다음 20개를 보려면 Enter를 누르세요...\")"
   ]
  },
  {
   "cell_type": "code",
   "execution_count": 20,
   "metadata": {},
   "outputs": [
    {
     "data": {
      "text/plain": [
       "27"
      ]
     },
     "execution_count": 20,
     "metadata": {},
     "output_type": "execute_result"
    }
   ],
   "source": [
    "high_ascii = df[cond1 &cond3]\n",
    "len(high_ascii)"
   ]
  },
  {
   "cell_type": "code",
   "execution_count": 39,
   "metadata": {},
   "outputs": [
    {
     "data": {
      "text/plain": [
       "27"
      ]
     },
     "execution_count": 39,
     "metadata": {},
     "output_type": "execute_result"
    }
   ],
   "source": [
    "cond2 = df['uppercase_ratio'] < 0.8\n",
    "high_ascii = df[cond1 & cond3]\n",
    "len(high_ascii)"
   ]
  },
  {
   "cell_type": "code",
   "execution_count": 40,
   "metadata": {},
   "outputs": [
    {
     "name": "stdout",
     "output_type": "stream",
     "text": [
      "\n",
      "=== 1~20번째 데이터 ===\n",
      "                                     text  uppercase_ratio\n",
      "15         게시판 KISA 박민정 책임연구원 APTLD 이사 선출         1.000000\n",
      "18                           개R전 연w정연H 작가         0.666667\n",
      "68          MBC 류현진 특집 다큐 MLB 전설에게 듣는 류현진         1.000000\n",
      "115                          최병륜 울산MBC 사장         1.000000\n",
      "363              KAIST 온도따라 변하는 스마트 입자 개발         1.000000\n",
      "582          UEFA 파리 생제르맹 FFP 위반 여부 조사 착수         1.000000\n",
      "601                  美 매d g츠버그 강정호와 y별p T         0.200000\n",
      "602        LA총영사관 UCLA·USC 한인학생회와 취업정보 공유         1.000000\n",
      "638                        IoT로 쓰레기통 관리해요         0.666667\n",
      "691       메시·호날두 UEFA 올해의 팀에 선정 EPL 선수 제로         1.000000\n",
      "1132             KT카스 NBIoT 사업협력을 위한 업무협약         0.857143\n",
      "1362        KT 멀티캠퍼스와 기가지니 SERICEO 서비스 론칭         1.000000\n",
      "1505  日언론 고노 외상 美 USTR 대표와 회담 WTO 개혁 연대키로         1.000000\n",
      "1692            KT·SKT 나란히 국제표준 생체인증 획득종합         1.000000\n",
      "1707                        SKT 미래 고객 잡는다         1.000000\n",
      "1788       中 RCEP 추진 박차 아태지역 통합에 TPP보다 유리         1.000000\n",
      "1792     현tuK수 김천웅 한국인h최초로 k스라I E체바무용단 입단         0.428571\n",
      "2037                      b저임tq만원 n약 p행Wh         0.142857\n",
      "2068             이통Y사f갤럭시탭Sr 오늘w터L사전예약 시작         0.500000\n",
      "2139    CJ헬로비전SKB 합병 무효 소송 잇따라 LGU＋ 법적 대응         1.000000\n",
      "\n",
      "=== 21~27번째 데이터 ===\n",
      "                                  text  uppercase_ratio\n",
      "2175  게시판 SKT 독거노인 케어 서비스 GSMA 우수사례 선정         1.000000\n",
      "2237    n대통령 bT일부터 美핵g보X상hS i석NA핵제재 Q교         0.545455\n",
      "2302          SK텔레콤 IoT 네트워크 기반 맞춤 서비스         0.800000\n",
      "2514       주Ia탄o 한국총영사관t한국 애니메이션의 Z 개u         0.333333\n",
      "2612    SK텔레콤 AI 드림팀 완성  AI리서치센터 조직 신설         1.000000\n",
      "2638                          w콩 T립 깃발         0.500000\n",
      "2704        L자Mk 삼성생D OK저축은P에 완승 연패 탈출         0.857143\n"
     ]
    }
   ],
   "source": [
    "total_rows = len(high_ascii)\n",
    "chunk_size = 20\n",
    "\n",
    "for i in range(0, total_rows, chunk_size):\n",
    "    chunk = high_ascii.iloc[i:i + chunk_size]\n",
    "    print(f\"\\n=== {i+1}~{min(i+chunk_size, total_rows)}번째 데이터 ===\")\n",
    "    print(chunk[['text','uppercase_ratio' ]])\n",
    "    \n",
    "    # 다음 20개를 보려면 엔터를 누르세요\n",
    "    input(\"\\n다음 20개를 보려면 Enter를 누르세요...\")"
   ]
  },
  {
   "cell_type": "code",
   "execution_count": null,
   "metadata": {},
   "outputs": [],
   "source": [
    "high_ascii = df[cond1]\n",
    "high_ascii.head(10)"
   ]
  },
  {
   "cell_type": "code",
   "execution_count": null,
   "metadata": {},
   "outputs": [],
   "source": []
  }
 ],
 "metadata": {
  "kernelspec": {
   "display_name": "level2_data_centric",
   "language": "python",
   "name": "python3"
  },
  "language_info": {
   "codemirror_mode": {
    "name": "ipython",
    "version": 3
   },
   "file_extension": ".py",
   "mimetype": "text/x-python",
   "name": "python",
   "nbconvert_exporter": "python",
   "pygments_lexer": "ipython3",
   "version": "3.11.3"
  }
 },
 "nbformat": 4,
 "nbformat_minor": 2
}
